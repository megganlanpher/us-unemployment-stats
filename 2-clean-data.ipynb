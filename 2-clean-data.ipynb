{
 "cells": [
  {
   "cell_type": "markdown",
   "metadata": {},
   "source": [
    "### Clean the Local Area Unemployment Statistics data\n",
    "Data pulled from The Bureau of Labor Statistics' (BLS) Public Data Application Programming Interface (API)"
   ]
  },
  {
   "cell_type": "code",
   "execution_count": 3,
   "metadata": {},
   "outputs": [],
   "source": [
    "import pandas as pd"
   ]
  },
  {
   "cell_type": "code",
   "execution_count": 4,
   "metadata": {},
   "outputs": [],
   "source": [
    "# Read in the data \n",
    "df = pd.read_csv('./all_data_by_city.csv')"
   ]
  },
  {
   "cell_type": "code",
   "execution_count": 5,
   "metadata": {
    "scrolled": true
   },
   "outputs": [
    {
     "data": {
      "text/html": [
       "<div>\n",
       "<style scoped>\n",
       "    .dataframe tbody tr th:only-of-type {\n",
       "        vertical-align: middle;\n",
       "    }\n",
       "\n",
       "    .dataframe tbody tr th {\n",
       "        vertical-align: top;\n",
       "    }\n",
       "\n",
       "    .dataframe thead th {\n",
       "        text-align: right;\n",
       "    }\n",
       "</style>\n",
       "<table border=\"1\" class=\"dataframe\">\n",
       "  <thead>\n",
       "    <tr style=\"text-align: right;\">\n",
       "      <th></th>\n",
       "      <th>series_id</th>\n",
       "      <th>date</th>\n",
       "      <th>year</th>\n",
       "      <th>period</th>\n",
       "      <th>value</th>\n",
       "      <th>city</th>\n",
       "      <th>series_type</th>\n",
       "    </tr>\n",
       "  </thead>\n",
       "  <tbody>\n",
       "    <tr>\n",
       "      <th>0</th>\n",
       "      <td>LAUCS090731000000003</td>\n",
       "      <td>07/2020</td>\n",
       "      <td>2020</td>\n",
       "      <td>M07</td>\n",
       "      <td>9.1</td>\n",
       "      <td>Branford town, CT</td>\n",
       "      <td>unemployment_rate</td>\n",
       "    </tr>\n",
       "    <tr>\n",
       "      <th>1</th>\n",
       "      <td>LAUCS090731000000003</td>\n",
       "      <td>06/2020</td>\n",
       "      <td>2020</td>\n",
       "      <td>M06</td>\n",
       "      <td>9.1</td>\n",
       "      <td>Branford town, CT</td>\n",
       "      <td>unemployment_rate</td>\n",
       "    </tr>\n",
       "    <tr>\n",
       "      <th>2</th>\n",
       "      <td>LAUCS090731000000003</td>\n",
       "      <td>05/2020</td>\n",
       "      <td>2020</td>\n",
       "      <td>M05</td>\n",
       "      <td>8.9</td>\n",
       "      <td>Branford town, CT</td>\n",
       "      <td>unemployment_rate</td>\n",
       "    </tr>\n",
       "    <tr>\n",
       "      <th>3</th>\n",
       "      <td>LAUCS090731000000003</td>\n",
       "      <td>04/2020</td>\n",
       "      <td>2020</td>\n",
       "      <td>M04</td>\n",
       "      <td>8.0</td>\n",
       "      <td>Branford town, CT</td>\n",
       "      <td>unemployment_rate</td>\n",
       "    </tr>\n",
       "    <tr>\n",
       "      <th>4</th>\n",
       "      <td>LAUCS090731000000003</td>\n",
       "      <td>03/2020</td>\n",
       "      <td>2020</td>\n",
       "      <td>M03</td>\n",
       "      <td>3.1</td>\n",
       "      <td>Branford town, CT</td>\n",
       "      <td>unemployment_rate</td>\n",
       "    </tr>\n",
       "  </tbody>\n",
       "</table>\n",
       "</div>"
      ],
      "text/plain": [
       "              series_id     date  year period  value               city  \\\n",
       "0  LAUCS090731000000003  07/2020  2020    M07    9.1  Branford town, CT   \n",
       "1  LAUCS090731000000003  06/2020  2020    M06    9.1  Branford town, CT   \n",
       "2  LAUCS090731000000003  05/2020  2020    M05    8.9  Branford town, CT   \n",
       "3  LAUCS090731000000003  04/2020  2020    M04    8.0  Branford town, CT   \n",
       "4  LAUCS090731000000003  03/2020  2020    M03    3.1  Branford town, CT   \n",
       "\n",
       "         series_type  \n",
       "0  unemployment_rate  \n",
       "1  unemployment_rate  \n",
       "2  unemployment_rate  \n",
       "3  unemployment_rate  \n",
       "4  unemployment_rate  "
      ]
     },
     "execution_count": 5,
     "metadata": {},
     "output_type": "execute_result"
    }
   ],
   "source": [
    "df.head()"
   ]
  },
  {
   "cell_type": "code",
   "execution_count": 7,
   "metadata": {},
   "outputs": [],
   "source": [
    "# Change column name to better describe the city info provided\n",
    "df.rename(columns={\"city\": \"city_type_state\"}, inplace=True)"
   ]
  },
  {
   "cell_type": "code",
   "execution_count": 9,
   "metadata": {},
   "outputs": [],
   "source": [
    "# Convert city information to separate city, state, and city_state columns\n",
    "cities = []\n",
    "states = []\n",
    "cities_states = []\n",
    "for item in df['city_type_state']:\n",
    "    city, state = item.split(', ')\n",
    "    city = ' '.join(city.split(' ')[:-1])\n",
    "    city_state = city+', '+state\n",
    "    cities.append(city)\n",
    "    states.append(state)\n",
    "    cities_states.append(city_state)\n",
    "    \n",
    "df['city'] = cities\n",
    "df['state'] = states\n",
    "df['city_state'] = cities_states"
   ]
  },
  {
   "cell_type": "code",
   "execution_count": 10,
   "metadata": {},
   "outputs": [
    {
     "data": {
      "text/html": [
       "<div>\n",
       "<style scoped>\n",
       "    .dataframe tbody tr th:only-of-type {\n",
       "        vertical-align: middle;\n",
       "    }\n",
       "\n",
       "    .dataframe tbody tr th {\n",
       "        vertical-align: top;\n",
       "    }\n",
       "\n",
       "    .dataframe thead th {\n",
       "        text-align: right;\n",
       "    }\n",
       "</style>\n",
       "<table border=\"1\" class=\"dataframe\">\n",
       "  <thead>\n",
       "    <tr style=\"text-align: right;\">\n",
       "      <th></th>\n",
       "      <th>series_id</th>\n",
       "      <th>date</th>\n",
       "      <th>year</th>\n",
       "      <th>period</th>\n",
       "      <th>value</th>\n",
       "      <th>city_type_state</th>\n",
       "      <th>series_type</th>\n",
       "      <th>city</th>\n",
       "      <th>state</th>\n",
       "      <th>city_state</th>\n",
       "    </tr>\n",
       "  </thead>\n",
       "  <tbody>\n",
       "    <tr>\n",
       "      <th>0</th>\n",
       "      <td>LAUCS090731000000003</td>\n",
       "      <td>07/2020</td>\n",
       "      <td>2020</td>\n",
       "      <td>M07</td>\n",
       "      <td>9.1</td>\n",
       "      <td>Branford town, CT</td>\n",
       "      <td>unemployment_rate</td>\n",
       "      <td>Branford</td>\n",
       "      <td>CT</td>\n",
       "      <td>Branford, CT</td>\n",
       "    </tr>\n",
       "    <tr>\n",
       "      <th>1</th>\n",
       "      <td>LAUCS090731000000003</td>\n",
       "      <td>06/2020</td>\n",
       "      <td>2020</td>\n",
       "      <td>M06</td>\n",
       "      <td>9.1</td>\n",
       "      <td>Branford town, CT</td>\n",
       "      <td>unemployment_rate</td>\n",
       "      <td>Branford</td>\n",
       "      <td>CT</td>\n",
       "      <td>Branford, CT</td>\n",
       "    </tr>\n",
       "    <tr>\n",
       "      <th>2</th>\n",
       "      <td>LAUCS090731000000003</td>\n",
       "      <td>05/2020</td>\n",
       "      <td>2020</td>\n",
       "      <td>M05</td>\n",
       "      <td>8.9</td>\n",
       "      <td>Branford town, CT</td>\n",
       "      <td>unemployment_rate</td>\n",
       "      <td>Branford</td>\n",
       "      <td>CT</td>\n",
       "      <td>Branford, CT</td>\n",
       "    </tr>\n",
       "    <tr>\n",
       "      <th>3</th>\n",
       "      <td>LAUCS090731000000003</td>\n",
       "      <td>04/2020</td>\n",
       "      <td>2020</td>\n",
       "      <td>M04</td>\n",
       "      <td>8.0</td>\n",
       "      <td>Branford town, CT</td>\n",
       "      <td>unemployment_rate</td>\n",
       "      <td>Branford</td>\n",
       "      <td>CT</td>\n",
       "      <td>Branford, CT</td>\n",
       "    </tr>\n",
       "    <tr>\n",
       "      <th>4</th>\n",
       "      <td>LAUCS090731000000003</td>\n",
       "      <td>03/2020</td>\n",
       "      <td>2020</td>\n",
       "      <td>M03</td>\n",
       "      <td>3.1</td>\n",
       "      <td>Branford town, CT</td>\n",
       "      <td>unemployment_rate</td>\n",
       "      <td>Branford</td>\n",
       "      <td>CT</td>\n",
       "      <td>Branford, CT</td>\n",
       "    </tr>\n",
       "  </tbody>\n",
       "</table>\n",
       "</div>"
      ],
      "text/plain": [
       "              series_id     date  year period  value    city_type_state  \\\n",
       "0  LAUCS090731000000003  07/2020  2020    M07    9.1  Branford town, CT   \n",
       "1  LAUCS090731000000003  06/2020  2020    M06    9.1  Branford town, CT   \n",
       "2  LAUCS090731000000003  05/2020  2020    M05    8.9  Branford town, CT   \n",
       "3  LAUCS090731000000003  04/2020  2020    M04    8.0  Branford town, CT   \n",
       "4  LAUCS090731000000003  03/2020  2020    M03    3.1  Branford town, CT   \n",
       "\n",
       "         series_type      city state    city_state  \n",
       "0  unemployment_rate  Branford    CT  Branford, CT  \n",
       "1  unemployment_rate  Branford    CT  Branford, CT  \n",
       "2  unemployment_rate  Branford    CT  Branford, CT  \n",
       "3  unemployment_rate  Branford    CT  Branford, CT  \n",
       "4  unemployment_rate  Branford    CT  Branford, CT  "
      ]
     },
     "execution_count": 10,
     "metadata": {},
     "output_type": "execute_result"
    }
   ],
   "source": [
    "df.head()"
   ]
  },
  {
   "cell_type": "code",
   "execution_count": 12,
   "metadata": {},
   "outputs": [
    {
     "data": {
      "text/plain": [
       "Princeton, NJ    364\n",
       "Name: city_type_state, dtype: int64"
      ]
     },
     "execution_count": 12,
     "metadata": {},
     "output_type": "execute_result"
    }
   ],
   "source": [
    "# Check for missing city name values\n",
    "df[df['city']=='']['city_type_state'].value_counts() # display city_type_state for cities missing a name"
   ]
  },
  {
   "cell_type": "code",
   "execution_count": 8,
   "metadata": {},
   "outputs": [],
   "source": [
    "df['city_state'] = df['city_state'].replace(', NJ', 'Princeton, NJ')\n",
    "df['city'] = df['city'].replace('', 'Princeton')"
   ]
  },
  {
   "cell_type": "code",
   "execution_count": 9,
   "metadata": {},
   "outputs": [
    {
     "data": {
      "text/html": [
       "<div>\n",
       "<style scoped>\n",
       "    .dataframe tbody tr th:only-of-type {\n",
       "        vertical-align: middle;\n",
       "    }\n",
       "\n",
       "    .dataframe tbody tr th {\n",
       "        vertical-align: top;\n",
       "    }\n",
       "\n",
       "    .dataframe thead th {\n",
       "        text-align: right;\n",
       "    }\n",
       "</style>\n",
       "<table border=\"1\" class=\"dataframe\">\n",
       "  <thead>\n",
       "    <tr style=\"text-align: right;\">\n",
       "      <th></th>\n",
       "      <th>series_id</th>\n",
       "      <th>date</th>\n",
       "      <th>year</th>\n",
       "      <th>period</th>\n",
       "      <th>value</th>\n",
       "      <th>city</th>\n",
       "      <th>series_type</th>\n",
       "      <th>city_type_state</th>\n",
       "      <th>state</th>\n",
       "      <th>city_state</th>\n",
       "    </tr>\n",
       "  </thead>\n",
       "  <tbody>\n",
       "  </tbody>\n",
       "</table>\n",
       "</div>"
      ],
      "text/plain": [
       "Empty DataFrame\n",
       "Columns: [series_id, date, year, period, value, city, series_type, city_type_state, state, city_state]\n",
       "Index: []"
      ]
     },
     "execution_count": 9,
     "metadata": {},
     "output_type": "execute_result"
    }
   ],
   "source": [
    "# Verify that there are no remaining missing city values\n",
    "df[df['city']=='']"
   ]
  },
  {
   "cell_type": "code",
   "execution_count": 15,
   "metadata": {
    "scrolled": true
   },
   "outputs": [
    {
     "data": {
      "text/plain": [
       "Franklin Town city, MA            460\n",
       "Methuen Town city, MA             460\n",
       "Watertown Town city, MA           460\n",
       "Agawam Town city, MA              460\n",
       "West Springfield Town city, MA    460\n",
       "Braintree Town city, MA           460\n",
       "Barnstable Town city, MA          460\n",
       "Weymouth Town city, MA            460\n",
       "Name: city_type_state, dtype: int64"
      ]
     },
     "execution_count": 15,
     "metadata": {},
     "output_type": "execute_result"
    }
   ],
   "source": [
    "# Many MA towns had an extra \"Town\" specification that was unrecognized by Tableau\n",
    "df[df['city'].str.contains('Town')]['city_type_state'].value_counts()"
   ]
  },
  {
   "cell_type": "code",
   "execution_count": 12,
   "metadata": {},
   "outputs": [],
   "source": [
    "# Remove extra \"Town\" specification\n",
    "cleaned_cities = []\n",
    "for city in df['city'].values:\n",
    "    city = city.replace(' Town', '')\n",
    "    cleaned_cities.append(city)\n",
    "df['city'] = cleaned_cities"
   ]
  },
  {
   "cell_type": "code",
   "execution_count": 13,
   "metadata": {
    "scrolled": false
   },
   "outputs": [
    {
     "data": {
      "text/html": [
       "<div>\n",
       "<style scoped>\n",
       "    .dataframe tbody tr th:only-of-type {\n",
       "        vertical-align: middle;\n",
       "    }\n",
       "\n",
       "    .dataframe tbody tr th {\n",
       "        vertical-align: top;\n",
       "    }\n",
       "\n",
       "    .dataframe thead th {\n",
       "        text-align: right;\n",
       "    }\n",
       "</style>\n",
       "<table border=\"1\" class=\"dataframe\">\n",
       "  <thead>\n",
       "    <tr style=\"text-align: right;\">\n",
       "      <th></th>\n",
       "      <th>series_id</th>\n",
       "      <th>date</th>\n",
       "      <th>year</th>\n",
       "      <th>period</th>\n",
       "      <th>value</th>\n",
       "      <th>city</th>\n",
       "      <th>series_type</th>\n",
       "      <th>city_type_state</th>\n",
       "      <th>state</th>\n",
       "      <th>city_state</th>\n",
       "    </tr>\n",
       "  </thead>\n",
       "  <tbody>\n",
       "  </tbody>\n",
       "</table>\n",
       "</div>"
      ],
      "text/plain": [
       "Empty DataFrame\n",
       "Columns: [series_id, date, year, period, value, city, series_type, city_type_state, state, city_state]\n",
       "Index: []"
      ]
     },
     "execution_count": 13,
     "metadata": {},
     "output_type": "execute_result"
    }
   ],
   "source": [
    "# Verify that \"Town\" specification was removed\n",
    "df[df['city'].str.contains('Town')]"
   ]
  },
  {
   "cell_type": "code",
   "execution_count": 16,
   "metadata": {
    "scrolled": false
   },
   "outputs": [
    {
     "data": {
      "text/plain": [
       "Bedford township (Monroe County), MI                   460\n",
       "Washington township (Gloucester County), NJ            460\n",
       "Montgomery township (Montgomery County), PA            460\n",
       "Spring township (Berks County), PA                     460\n",
       "Plainfield charter township (Kent County), MI          460\n",
       "Butte-Silver Bow (consolidated) city, MT               460\n",
       "Milford (consolidated) city/town, CT                   460\n",
       "Shelby charter township (Macomb County), MI            460\n",
       "Brighton town (Monroe County), NY                      460\n",
       "Columbus (consolidated) city, GA                       460\n",
       "Clinton charter township (Macomb County), MI           460\n",
       "Bloomfield charter township (Oakland County), MI       460\n",
       "Middletown township (Bucks County), PA                 460\n",
       "Derry township (Dauphin County), PA                    460\n",
       "Franklin township (Somerset County), NJ                460\n",
       "Washington township (Macomb County), MI                460\n",
       "Falls township (Bucks County), PA                      460\n",
       "Hamilton township (Mercer County), NJ                  460\n",
       "Augusta-Richmond County (consolidated) city, GA        460\n",
       "Ross township (Allegheny County), PA                   460\n",
       "Manheim township (Lancaster County), PA                460\n",
       "Holland charter township (Ottawa County), MI           460\n",
       "Hempfield township (Westmoreland County), PA           460\n",
       "Cranberry township (Butler County), PA                 460\n",
       "Indianapolis (consolidated) city, IN                   460\n",
       "Exeter township (Berks County), PA                     460\n",
       "Nashville-Davidson (consolidated) city, TN             460\n",
       "Monroe township (Middlesex County), NJ                 460\n",
       "Northampton township (Bucks County), PA                460\n",
       "Union township (Union County), NJ                      460\n",
       "Athens-Clarke County (consolidated) city, GA           460\n",
       "Ocean township (Monmouth County), NJ                   460\n",
       "Monroe township (Gloucester County), NJ                460\n",
       "San Buenaventura (Ventura) city, CA                    460\n",
       "El Paso de Robles (Paso Robles) city, CA               460\n",
       "Louisville-Jefferson County (consolidated) city, KY    460\n",
       "Indianapolis (incorporated) city, IN                   460\n",
       "Hamilton township (Atlantic County), NJ                460\n",
       "Millcreek township (Erie County), PA                   460\n",
       "Lawrence township (Mercer County), NJ                  460\n",
       "Susquehanna township (Dauphin County), PA              460\n",
       "Name: city_type_state, dtype: int64"
      ]
     },
     "execution_count": 16,
     "metadata": {},
     "output_type": "execute_result"
    }
   ],
   "source": [
    "# Many of the listed cities had additional information in Parenthesis\n",
    "df[df['city'].str.contains(r\"\\s?\\(\")]['city_type_state'].value_counts()"
   ]
  },
  {
   "cell_type": "code",
   "execution_count": 15,
   "metadata": {
    "scrolled": false
   },
   "outputs": [],
   "source": [
    "# Remove information in parentheses from city data and reassign to \n",
    "city_parentheses = list(set(df[df['city'].str.contains(r\"\\s?\\(\")]['city_type_state']))\n",
    "\n",
    "city_rm_parentheses = [city.split(', ')[0].split(r\" (\")[0] for city in city_parentheses]\n",
    "\n",
    "city_parentheses_dict = {} # make dictionary of cities as listed to cleaned city names\n",
    "for i in range(len(city_parentheses)):\n",
    "    key = city_parentheses[i].split(', ')[0]\n",
    "    key = ' '.join(key.split(' ')[:-1])\n",
    "    value = city_rm_parentheses[i]\n",
    "    city_parentheses_dict[key] = value\n",
    "\n",
    "all_cities_no_parentheses = [] # update values of the city column\n",
    "for city in df['city']:\n",
    "    if city in city_parentheses_dict:\n",
    "        all_cities_no_parentheses.append(city_parentheses_dict[city])\n",
    "    else:\n",
    "        all_cities_no_parentheses.append(city)\n",
    "df['city'] = all_cities_no_parentheses"
   ]
  },
  {
   "cell_type": "code",
   "execution_count": 16,
   "metadata": {
    "scrolled": false
   },
   "outputs": [
    {
     "data": {
      "text/html": [
       "<div>\n",
       "<style scoped>\n",
       "    .dataframe tbody tr th:only-of-type {\n",
       "        vertical-align: middle;\n",
       "    }\n",
       "\n",
       "    .dataframe tbody tr th {\n",
       "        vertical-align: top;\n",
       "    }\n",
       "\n",
       "    .dataframe thead th {\n",
       "        text-align: right;\n",
       "    }\n",
       "</style>\n",
       "<table border=\"1\" class=\"dataframe\">\n",
       "  <thead>\n",
       "    <tr style=\"text-align: right;\">\n",
       "      <th></th>\n",
       "      <th>series_id</th>\n",
       "      <th>date</th>\n",
       "      <th>year</th>\n",
       "      <th>period</th>\n",
       "      <th>value</th>\n",
       "      <th>city</th>\n",
       "      <th>series_type</th>\n",
       "      <th>city_type_state</th>\n",
       "      <th>state</th>\n",
       "      <th>city_state</th>\n",
       "    </tr>\n",
       "  </thead>\n",
       "  <tbody>\n",
       "  </tbody>\n",
       "</table>\n",
       "</div>"
      ],
      "text/plain": [
       "Empty DataFrame\n",
       "Columns: [series_id, date, year, period, value, city, series_type, city_type_state, state, city_state]\n",
       "Index: []"
      ]
     },
     "execution_count": 16,
     "metadata": {},
     "output_type": "execute_result"
    }
   ],
   "source": [
    "# Verify that no city names remain with extra info in parentheses\n",
    "df[df['city'].str.contains(r\"\\s?\\(\")]"
   ]
  },
  {
   "cell_type": "code",
   "execution_count": 17,
   "metadata": {},
   "outputs": [],
   "source": [
    "df.to_csv('./cleaned_bls_data.csv')"
   ]
  }
 ],
 "metadata": {
  "kernelspec": {
   "display_name": "Python 3",
   "language": "python",
   "name": "python3"
  },
  "language_info": {
   "codemirror_mode": {
    "name": "ipython",
    "version": 3
   },
   "file_extension": ".py",
   "mimetype": "text/x-python",
   "name": "python",
   "nbconvert_exporter": "python",
   "pygments_lexer": "ipython3",
   "version": "3.8.2"
  }
 },
 "nbformat": 4,
 "nbformat_minor": 4
}
